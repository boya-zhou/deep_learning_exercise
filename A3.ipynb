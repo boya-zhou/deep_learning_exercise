{
 "cells": [
  {
   "cell_type": "code",
   "execution_count": 84,
   "metadata": {
    "collapsed": false
   },
   "outputs": [
    {
     "data": {
      "text/plain": [
       "1.0"
      ]
     },
     "execution_count": 84,
     "metadata": {},
     "output_type": "execute_result"
    }
   ],
   "source": [
    "#numerical stability\n",
    "1000000000 + 0.000001 * 1000000 - 1000000000"
   ]
  },
  {
   "cell_type": "code",
   "execution_count": 24,
   "metadata": {
    "collapsed": true
   },
   "outputs": [],
   "source": [
    "# These are all the modules we'll be using later. Make sure you can import them\n",
    "# before proceeding further.\n",
    "from __future__ import print_function\n",
    "import numpy as np\n",
    "import tensorflow as tf\n",
    "from six.moves import cPickle as pickle\n",
    "%matplotlib inline\n",
    "import matplotlib.pyplot as plt"
   ]
  },
  {
   "cell_type": "code",
   "execution_count": 2,
   "metadata": {
    "collapsed": false
   },
   "outputs": [
    {
     "name": "stdout",
     "output_type": "stream",
     "text": [
      "Training set (200000, 28, 28) (200000,)\n",
      "Validation set (10000, 28, 28) (10000,)\n",
      "Test set (10000, 28, 28) (10000,)\n"
     ]
    }
   ],
   "source": [
    "pickle_file = 'notMNIST.pickle'\n",
    "\n",
    "with open(pickle_file, 'rb') as f:\n",
    "      save = pickle.load(f)\n",
    "      train_dataset = save['train_dataset']\n",
    "      train_labels = save['train_labels']\n",
    "      valid_dataset = save['valid_dataset']\n",
    "      valid_labels = save['valid_labels']\n",
    "      test_dataset = save['test_dataset']\n",
    "      test_labels = save['test_labels']\n",
    "      del save  # hint to help gc free up memory\n",
    "      print('Training set', train_dataset.shape, train_labels.shape)\n",
    "      print('Validation set', valid_dataset.shape, valid_labels.shape)\n",
    "      print('Test set', test_dataset.shape, test_labels.shape)"
   ]
  },
  {
   "cell_type": "code",
   "execution_count": null,
   "metadata": {
    "collapsed": true
   },
   "outputs": [],
   "source": []
  },
  {
   "cell_type": "code",
   "execution_count": 3,
   "metadata": {
    "collapsed": false
   },
   "outputs": [
    {
     "name": "stdout",
     "output_type": "stream",
     "text": [
      "Training set (200000, 784) (200000, 10)\n",
      "Validation set (10000, 784) (10000, 10)\n",
      "Test set (10000, 784) (10000, 10)\n"
     ]
    }
   ],
   "source": [
    "image_size = 28\n",
    "num_labels = 10\n",
    "\n",
    "def reformat(dataset, labels):\n",
    "      dataset = dataset.reshape((-1, image_size * image_size)).astype(np.float32)\n",
    "      # Map 2 to [0.0, 1.0, 0.0 ...], 3 to [0.0, 0.0, 1.0 ...]\n",
    "      labels = (np.arange(num_labels) == labels[:,None]).astype(np.float32)\n",
    "      return dataset, labels\n",
    "train_dataset, train_labels = reformat(train_dataset, train_labels)\n",
    "valid_dataset, valid_labels = reformat(valid_dataset, valid_labels)\n",
    "test_dataset, test_labels = reformat(test_dataset, test_labels)\n",
    "print('Training set', train_dataset.shape, train_labels.shape)\n",
    "print('Validation set', valid_dataset.shape, valid_labels.shape)\n",
    "print('Test set', test_dataset.shape, test_labels.shape)"
   ]
  },
  {
   "cell_type": "markdown",
   "metadata": {},
   "source": [
    "Problem 1\n",
    "\n",
    "Introduce and tune L2 regularization for both logistic and neural network models. \n",
    "\n",
    "Remember that L2 amounts to adding a penalty on the norm of the weights to the loss.\n",
    "\n",
    "In TensorFlow, you can compute the L2 loss for a tensor t using nn.l2_loss(t). \n",
    "\n",
    "The right amount of regularization should improve your validation / test accuracy."
   ]
  },
  {
   "cell_type": "code",
   "execution_count": 13,
   "metadata": {
    "collapsed": true
   },
   "outputs": [],
   "source": [
    "#first define the batch size\n",
    "# I guess if want to use stochastic, must use batch\n",
    "batch_size = 128\n",
    "\n",
    "graph = tf.Graph()\n",
    "\n",
    "with graph.as_default():\n",
    "    \n",
    "    #first should be input\n",
    "    #placeholder should first define the type of the data\n",
    "    tf_train_data = tf.placeholder(tf.float32,shape = (batch_size,image_size * image_size))\n",
    "    tf_train_label = tf.placeholder(tf.float32,shape = (batch_size,num_labels))\n",
    "    tf_valid_data = tf.constant(valid_dataset)\n",
    "    tf_test_data = tf.constant(test_dataset)\n",
    "    lamda_reg = tf.placeholder(tf.float32)\n",
    "    \n",
    "    #then define variable\n",
    "    weight = tf.Variable(tf.truncated_normal([image_size*image_size, num_labels]))\n",
    "    biases = tf.Variable(tf.zeros([num_labels]))\n",
    "    \n",
    "    #this part should be compute the content in each layer\n",
    "    logit = tf.matmul(tf_train_data,weight) + biases\n",
    "    loss = tf.reduce_mean(tf.nn.softmax_cross_entropy_with_logits(logit,tf_train_label)) + lamda_reg * tf.nn.l2_loss(weight)\n",
    "    \n",
    "    #define the optimizer\n",
    "    optimizer = tf.train.GradientDescentOptimizer(0.5).minimize(loss)\n",
    "    \n",
    "    # variable for display in the training proces\n",
    "    # since the accuracy function is just here, here we only need to calculate the softmax(logit)\n",
    "    train_predict = tf.nn.softmax(logit)\n",
    "    valid_predict = tf.nn.softmax(tf.matmul(tf_valid_data,weight) + biases)\n",
    "    test_predict = tf.nn.softmax(tf.matmul(tf_test_data,weight) + biases)"
   ]
  },
  {
   "cell_type": "code",
   "execution_count": 14,
   "metadata": {
    "collapsed": true
   },
   "outputs": [],
   "source": [
    "def accuracy(predictions, labels):\n",
    "      return (100.0 * np.sum(np.argmax(predictions, 1) == np.argmax(labels, 1))\n",
    "              / predictions.shape[0])"
   ]
  },
  {
   "cell_type": "code",
   "execution_count": 21,
   "metadata": {
    "collapsed": false
   },
   "outputs": [
    {
     "name": "stdout",
     "output_type": "stream",
     "text": [
      "Initialized\n",
      "Minibatch at step 0: 260.066925\n",
      "Minibatch accuracy: 9.4%\n",
      "Validation accuracy: 11.0%\n",
      "Minibatch at step 500: 0.885657\n",
      "Minibatch accuracy: 85.2%\n",
      "Validation accuracy: 79.1%\n",
      "Minibatch at step 1000: 1.061215\n",
      "Minibatch accuracy: 75.8%\n",
      "Validation accuracy: 78.9%\n",
      "Minibatch at step 1500: 0.841596\n",
      "Minibatch accuracy: 82.8%\n",
      "Validation accuracy: 78.1%\n",
      "Minibatch at step 2000: 0.956766\n",
      "Minibatch accuracy: 81.2%\n",
      "Validation accuracy: 75.9%\n",
      "Minibatch at step 2500: 1.044013\n",
      "Minibatch accuracy: 74.2%\n",
      "Validation accuracy: 77.6%\n",
      "Minibatch at step 3000: 1.054308\n",
      "Minibatch accuracy: 78.1%\n",
      "Validation accuracy: 78.7%\n",
      "Test accuracy: 85.7%\n"
     ]
    }
   ],
   "source": [
    "#first define step, I guess the step here is echo\n",
    "steps = 3001\n",
    "\n",
    "with tf.Session(graph = graph) as session:\n",
    "    #initialize the variable first\n",
    "    tf.initialize_all_variables().run()\n",
    "    print(\"Initialized\")\n",
    "\n",
    "    for step in range(steps):\n",
    "        # I guess offset is find where to begin with\n",
    "        offset = (step * batch_size)% (train_labels.shape[0]-batch_size)\n",
    "        batch_data = train_dataset[offset:(offset+batch_size),:]\n",
    "        batch_label = train_labels[offset:(offset+batch_size),:]\n",
    "        #feed_dict\n",
    "        feed_dict = {tf_train_data:batch_data,tf_train_label:batch_label,lamda_reg:0.08}\n",
    "        \n",
    "        #session run\n",
    "        _,l,prediction = session.run([optimizer,loss,train_predict],feed_dict = feed_dict)\n",
    "        \n",
    "        #print the info\n",
    "        if (step%500 == 0):\n",
    "            print ('Minibatch at step %d: %f'%(step,l))\n",
    "            print(\"Minibatch accuracy: %.1f%%\" % accuracy(prediction, batch_label))\n",
    "            print(\"Validation accuracy: %.1f%%\" % accuracy(\n",
    "              valid_predict.eval(), valid_labels))\n",
    "    print(\"Test accuracy: %.1f%%\" % accuracy(test_predict.eval(), test_labels))"
   ]
  },
  {
   "cell_type": "code",
   "execution_count": 22,
   "metadata": {
    "collapsed": true
   },
   "outputs": [],
   "source": [
    "# pow means 10**i\n",
    "regul_val = [pow(10, i) for i in np.arange(-4, -2, 0.1)]\n",
    "x = np.arange(-4, -2, 0.1)"
   ]
  },
  {
   "cell_type": "code",
   "execution_count": 25,
   "metadata": {
    "collapsed": false
   },
   "outputs": [
    {
     "data": {
      "text/plain": [
       "[<matplotlib.lines.Line2D at 0x138eb6d90>]"
      ]
     },
     "execution_count": 25,
     "metadata": {},
     "output_type": "execute_result"
    },
    {
     "data": {
      "image/png": "[encoded data removed]",
      "text/plain": [
       "<matplotlib.figure.Figure at 0x13ccd9750>"
      ]
     },
     "metadata": {},
     "output_type": "display_data"
    }
   ],
   "source": [
    "plt.figure()\n",
    "\n",
    "plt.plot(x, regul_val)"
   ]
  },
  {
   "cell_type": "code",
   "execution_count": 41,
   "metadata": {
    "collapsed": false
   },
   "outputs": [
    {
     "name": "stdout",
     "output_type": "stream",
     "text": [
      "reg: 0.0001 : Test accuracy: 86.6%\n",
      "reg: 0.00012589254117941674 : Test accuracy: 86.8%\n",
      "reg: 0.00015848931924611142 : Test accuracy: 87.3%\n",
      "reg: 0.00019952623149688809 : Test accuracy: 87.3%\n",
      "reg: 0.00025118864315095823 : Test accuracy: 87.4%\n",
      "reg: 0.00031622776601683826 : Test accuracy: 87.4%\n",
      "reg: 0.00039810717055349773 : Test accuracy: 88.0%\n",
      "reg: 0.00050118723362727296 : Test accuracy: 88.2%\n",
      "reg: 0.00063095734448019429 : Test accuracy: 88.7%\n",
      "reg: 0.00079432823472428294 : Test accuracy: 88.7%\n",
      "reg: 0.001000000000000002 : Test accuracy: 89.0%\n",
      "reg: 0.0012589254117941701 : Test accuracy: 89.1%\n",
      "reg: 0.0015848931924611173 : Test accuracy: 89.1%\n",
      "reg: 0.001995262314968885 : Test accuracy: 89.1%\n",
      "reg: 0.0025118864315095872 : Test accuracy: 89.2%\n",
      "reg: 0.0031622776601683889 : Test accuracy: 89.1%\n",
      "reg: 0.0039810717055349856 : Test accuracy: 89.0%\n",
      "reg: 0.0050118723362727402 : Test accuracy: 89.0%\n",
      "reg: 0.0063095734448019554 : Test accuracy: 88.9%\n",
      "reg: 0.0079432823472428467 : Test accuracy: 88.7%\n"
     ]
    }
   ],
   "source": [
    "steps = 3001\n",
    "regul_val = [pow(10, i) for i in np.arange(-4, -2, 0.1)]\n",
    "x =np.arange(-4, -2, 0.1)\n",
    "result_test = []\n",
    "\n",
    "for reg in regul_val:\n",
    "    with tf.Session(graph = graph) as session:\n",
    "        #initialize the variable first\n",
    "        tf.initialize_all_variables().run()\n",
    "        #print(\"Initialized\")\n",
    "\n",
    "        for step in range(steps):\n",
    "            # I guess offset is find where to begin with\n",
    "            offset = (step * batch_size)% (train_labels.shape[0]-batch_size)\n",
    "            batch_data = train_dataset[offset:(offset+batch_size),:]\n",
    "            batch_label = train_labels[offset:(offset+batch_size),:]\n",
    "            #feed_dict\n",
    "            feed_dict = {tf_train_data:batch_data,tf_train_label:batch_label,lamda_reg:reg}\n",
    "\n",
    "            #session run\n",
    "            _,l,prediction = session.run([optimizer,loss,train_predict],feed_dict = feed_dict)\n",
    "\n",
    "            #print the info\n",
    "            #if (step%500 == 0):\n",
    "                #print ('Minibatch at step %d: %f'%(step,l))\n",
    "                #print(\"Minibatch accuracy: %.1f%%\" % accuracy(prediction, batch_label))\n",
    "                #print(\"Validation accuracy: %.1f%%\" % accuracy(\n",
    "                  #valid_predict.eval(), valid_labels))\n",
    "        accu_test = accuracy(test_predict.eval(), test_labels)\n",
    "        result_test.append(accu_test)\n",
    "        print(\"reg: %r : Test accuracy: %.1f%%\" %(reg,accu_test) )"
   ]
  },
  {
   "cell_type": "code",
   "execution_count": 38,
   "metadata": {
    "collapsed": false
   },
   "outputs": [
    {
     "data": {
      "text/plain": [
       "[<matplotlib.lines.Line2D at 0x13ac88310>]"
      ]
     },
     "execution_count": 38,
     "metadata": {},
     "output_type": "execute_result"
    },
    {
     "data": {
      "image/png": "[encoded data removed]",
      "text/plain": [
       "<matplotlib.figure.Figure at 0x13a7b9550>"
      ]
     },
     "metadata": {},
     "output_type": "display_data"
    }
   ],
   "source": [
    "plt.figure()\n",
    "\n",
    "plt.semilogx(regul_val,result_test)"
   ]
  },
  {
   "cell_type": "code",
   "execution_count": 44,
   "metadata": {
    "collapsed": false
   },
   "outputs": [],
   "source": [
    "##Add one layer netural network \n",
    "batch_size = 128\n",
    "hidden_nodes = 1024\n",
    "graph = tf.Graph()\n",
    "\n",
    "with graph.as_default():\n",
    "    \n",
    "    #first should be input\n",
    "    #placeholder should first define the type of the data\n",
    "    tf_train_data = tf.placeholder(tf.float32,shape = (batch_size,image_size * image_size))\n",
    "    tf_train_label = tf.placeholder(tf.float32,shape = (batch_size,num_labels))\n",
    "    tf_valid_data = tf.constant(valid_dataset)\n",
    "    tf_test_data = tf.constant(test_dataset)\n",
    "    lamda_reg = tf.placeholder(tf.float32)\n",
    "    \n",
    "    #then define variable\n",
    "    weight1 = tf.Variable(tf.truncated_normal([image_size*image_size, hidden_nodes]))\n",
    "    biases1 = tf.Variable(tf.zeros([hidden_nodes]))\n",
    "    weight2 = tf.Variable(tf.truncated_normal([hidden_nodes, num_labels]))\n",
    "    biases2 = tf.Variable(tf.zeros([num_labels]))\n",
    "    \n",
    "    #this part should be compute the content in each layer\n",
    "    layer1 = tf.matmul(tf_train_data,weight1) + biases1\n",
    "    logit = tf.matmul(layer1,weight2) + biases2\n",
    "    # notice that how to change the weight\n",
    "    loss = tf.reduce_mean(tf.nn.softmax_cross_entropy_with_logits(logit,tf_train_label)) + \\\n",
    "        lamda_reg * (tf.nn.l2_loss(weight1)+tf.nn.l2_loss(weight2))\n",
    "    \n",
    "    #define the optimizer\n",
    "    optimizer = tf.train.GradientDescentOptimizer(0.5).minimize(loss)\n",
    "    \n",
    "    # variable for display in the training proces\n",
    "    # since the accuracy function is just here, here we only need to calculate the softmax(logit)\n",
    "    train_predict = tf.nn.softmax(logit)\n",
    "    layer1_valid = tf.matmul(tf_valid_data,weight1) + biases1\n",
    "    valid_predict = tf.nn.softmax(tf.matmul(layer1_valid,weight2) + biases2)\n",
    "    layer2_valid = tf.matmul(tf_test_data,weight1) + biases1\n",
    "    test_predict = tf.nn.softmax(tf.matmul(layer2_valid,weight2) + biases2)"
   ]
  },
  {
   "cell_type": "code",
   "execution_count": 51,
   "metadata": {
    "collapsed": false
   },
   "outputs": [
    {
     "name": "stdout",
     "output_type": "stream",
     "text": [
      "Minibatch at step 0: 788.691345\n",
      "Minibatch accuracy: 8.6%\n",
      "Validation accuracy: 30.1%\n",
      "Minibatch at step 500: 208.850693\n",
      "Minibatch accuracy: 75.0%\n",
      "Validation accuracy: 69.7%\n",
      "Minibatch at step 1000: 125.734802\n",
      "Minibatch accuracy: 73.4%\n",
      "Validation accuracy: 70.5%\n",
      "Minibatch at step 1500: 68.923279\n",
      "Minibatch accuracy: 76.6%\n",
      "Validation accuracy: 71.2%\n",
      "Minibatch at step 2000: 42.143120\n",
      "Minibatch accuracy: 75.0%\n",
      "Validation accuracy: 72.2%\n",
      "Minibatch at step 2500: 25.308464\n",
      "Minibatch accuracy: 64.1%\n",
      "Validation accuracy: 69.7%\n",
      "Minibatch at step 3000: 15.000704\n",
      "Minibatch accuracy: 78.1%\n",
      "Validation accuracy: 77.5%\n",
      "Minibatch at step 3500: 9.183514\n",
      "Minibatch accuracy: 76.6%\n",
      "Validation accuracy: 77.0%\n",
      "Minibatch at step 4000: 5.685534\n",
      "Minibatch accuracy: 82.0%\n",
      "Validation accuracy: 79.6%\n",
      "Minibatch at step 4500: 3.772083\n",
      "Minibatch accuracy: 82.8%\n",
      "Validation accuracy: 80.4%\n",
      "Minibatch at step 5000: 2.437489\n",
      "Minibatch accuracy: 82.8%\n",
      "Validation accuracy: 80.3%\n",
      "reg: 0.00012589254117941674 : Test accuracy: 87.1%\n"
     ]
    }
   ],
   "source": [
    "steps = 5001\n",
    "\n",
    "with tf.Session(graph = graph) as session:\n",
    "    #initialize the variable first\n",
    "    tf.initialize_all_variables().run()\n",
    "    #print(\"Initialized\")\n",
    "\n",
    "    for step in range(steps):\n",
    "        # I guess offset is find where to begin with\n",
    "        offset = (step * batch_size)% (train_labels.shape[0]-batch_size)\n",
    "        batch_data = train_dataset[offset:(offset+batch_size),:]\n",
    "        batch_label = train_labels[offset:(offset+batch_size),:]\n",
    "        #feed_dict\n",
    "        feed_dict = {tf_train_data:batch_data,tf_train_label:batch_label,lamda_reg:0.0025}\n",
    "\n",
    "        #session run\n",
    "        _,l,prediction = session.run([optimizer,loss,train_predict],feed_dict = feed_dict)\n",
    "\n",
    "        #print the info\n",
    "        if (step%500 == 0):\n",
    "            print ('Minibatch at step %d: %f'%(step,l))\n",
    "            print(\"Minibatch accuracy: %.1f%%\" % accuracy(prediction, batch_label))\n",
    "            print(\"Validation accuracy: %.1f%%\" % accuracy(\n",
    "              valid_predict.eval(), valid_labels))\n",
    "    accu_test = accuracy(test_predict.eval(), test_labels)\n",
    "    result_test.append(accu_test)\n",
    "    print(\"reg: %r : Test accuracy: %.1f%%\" %(reg,accu_test) )"
   ]
  },
  {
   "cell_type": "code",
   "execution_count": 53,
   "metadata": {
    "collapsed": false
   },
   "outputs": [
    {
     "name": "stdout",
     "output_type": "stream",
     "text": [
      "reg: 0.0001 : Test accuracy: 82.2%\n",
      "reg: 0.00012589254117941674 : Test accuracy: 81.6%\n",
      "reg: 0.00015848931924611142 : Test accuracy: 75.8%\n",
      "reg: 0.00019952623149688809 : Test accuracy: 78.4%\n",
      "reg: 0.00025118864315095823 : Test accuracy: 76.1%\n",
      "reg: 0.00031622776601683826 : Test accuracy: 80.3%\n",
      "reg: 0.00039810717055349773 : Test accuracy: 77.1%\n",
      "reg: 0.00050118723362727296 : Test accuracy: 78.8%\n",
      "reg: 0.00063095734448019429 : Test accuracy: 81.8%\n",
      "reg: 0.00079432823472428294 : Test accuracy: 85.6%\n",
      "reg: 0.001000000000000002 : Test accuracy: 87.1%\n",
      "reg: 0.0012589254117941701 : Test accuracy: 87.6%\n",
      "reg: 0.0015848931924611173 : Test accuracy: 87.9%\n",
      "reg: 0.001995262314968885 : Test accuracy: 88.0%\n",
      "reg: 0.0025118864315095872 : Test accuracy: 88.0%\n",
      "reg: 0.0031622776601683889 : Test accuracy: 87.9%\n",
      "reg: 0.0039810717055349856 : Test accuracy: 87.7%\n",
      "reg: 0.0050118723362727402 : Test accuracy: 87.6%\n",
      "reg: 0.0063095734448019554 : Test accuracy: 87.5%\n",
      "reg: 0.0079432823472428467 : Test accuracy: 87.3%\n"
     ]
    }
   ],
   "source": [
    "for reg in regul_val:\n",
    "    with tf.Session(graph = graph) as session:\n",
    "        #initialize the variable first\n",
    "        tf.initialize_all_variables().run()\n",
    "        #print(\"Initialized\")\n",
    "\n",
    "        for step in range(steps):\n",
    "            # I guess offset is find where to begin with\n",
    "            offset = (step * batch_size)% (train_labels.shape[0]-batch_size)\n",
    "            batch_data = train_dataset[offset:(offset+batch_size),:]\n",
    "            batch_label = train_labels[offset:(offset+batch_size),:]\n",
    "            #feed_dict\n",
    "            feed_dict = {tf_train_data:batch_data,tf_train_label:batch_label,lamda_reg:reg}\n",
    "\n",
    "            #session run\n",
    "            _,l,prediction = session.run([optimizer,loss,train_predict],feed_dict = feed_dict)\n",
    "\n",
    "            #print the info\n",
    "#             if (step%500 == 0):\n",
    "#                 print ('Minibatch at step %d: %f'%(step,l))\n",
    "#                 print(\"Minibatch accuracy: %.1f%%\" % accuracy(prediction, batch_label))\n",
    "#                 print(\"Validation accuracy: %.1f%%\" % accuracy(\n",
    "#                   valid_predict.eval(), valid_labels))\n",
    "        accu_test = accuracy(test_predict.eval(), test_labels)\n",
    "        result_test.append(accu_test)\n",
    "        print(\"reg: %r : Test accuracy: %.1f%%\" %(reg,accu_test) )"
   ]
  },
  {
   "cell_type": "code",
   "execution_count": 60,
   "metadata": {
    "collapsed": false
   },
   "outputs": [],
   "source": [
    "##Add one layer netural network \n",
    "batch_size = 128\n",
    "hidden_nodes = 1024\n",
    "graph = tf.Graph()\n",
    "\n",
    "with graph.as_default():\n",
    "    \n",
    "    #first should be input\n",
    "    #placeholder should first define the type of the data\n",
    "    tf_train_data = tf.placeholder(tf.float32,shape = (batch_size,image_size * image_size))\n",
    "    tf_train_label = tf.placeholder(tf.float32,shape = (batch_size,num_labels))\n",
    "    tf_valid_data = tf.constant(valid_dataset)\n",
    "    tf_test_data = tf.constant(test_dataset)\n",
    "    lamda_reg = tf.placeholder(tf.float32)\n",
    "    \n",
    "    #then define variable\n",
    "    weight1 = tf.Variable(tf.truncated_normal([image_size*image_size, hidden_nodes]))\n",
    "    biases1 = tf.Variable(tf.zeros([hidden_nodes]))\n",
    "    weight2 = tf.Variable(tf.truncated_normal([hidden_nodes, num_labels]))\n",
    "    biases2 = tf.Variable(tf.zeros([num_labels]))\n",
    "    \n",
    "    #this part should be compute the content in each layer\n",
    "    layer1 = tf.nn.relu(tf.matmul(tf_train_data,weight1) + biases1)\n",
    "    drop1 = tf.nn.dropout(layer1,0.5)\n",
    "    logit = tf.matmul(drop1,weight2) + biases2\n",
    "    # notice that how to change the weight\n",
    "    loss = tf.reduce_mean(tf.nn.softmax_cross_entropy_with_logits(logit,tf_train_label)) + \\\n",
    "        lamda_reg * (tf.nn.l2_loss(weight1)+tf.nn.l2_loss(weight2))\n",
    "    \n",
    "    #define the optimizer\n",
    "    optimizer = tf.train.GradientDescentOptimizer(0.5).minimize(loss)\n",
    "    \n",
    "    # variable for display in the training proces\n",
    "    # since the accuracy function is just here, here we only need to calculate the softmax(logit)\n",
    "    train_predict = tf.nn.softmax(logit)\n",
    "    layer1_valid = tf.nn.relu(tf.matmul(tf_valid_data,weight1) + biases1)\n",
    "    valid_predict = tf.nn.softmax(tf.matmul(layer1_valid,weight2) + biases2)\n",
    "    layer1_test = tf.nn.relu(tf.matmul(tf_test_data,weight1) + biases1)\n",
    "    test_predict = tf.nn.softmax(tf.matmul(layer1_test,weight2) + biases2)"
   ]
  },
  {
   "cell_type": "code",
   "execution_count": 61,
   "metadata": {
    "collapsed": false
   },
   "outputs": [
    {
     "name": "stdout",
     "output_type": "stream",
     "text": [
      "reg: 0.001 : Test accuracy: 92.9%\n",
      "reg: 0.0012589254117941675 : Test accuracy: 93.0%\n",
      "reg: 0.0015848931924611141 : Test accuracy: 92.8%\n",
      "reg: 0.0019952623149688807 : Test accuracy: 92.6%\n",
      "reg: 0.002511886431509582 : Test accuracy: 92.2%\n",
      "reg: 0.0031622776601683824 : Test accuracy: 91.7%\n",
      "reg: 0.0039810717055349778 : Test accuracy: 91.5%\n",
      "reg: 0.0050118723362727298 : Test accuracy: 91.0%\n"
     ]
    },
    {
     "ename": "KeyboardInterrupt",
     "evalue": "",
     "output_type": "error",
     "traceback": [
      "\u001b[0;31m---------------------------------------------------------------------------\u001b[0m",
      "\u001b[0;31mKeyboardInterrupt\u001b[0m                         Traceback (most recent call last)",
      "\u001b[0;32m<ipython-input-61-000a2d5fb73d>\u001b[0m in \u001b[0;36m<module>\u001b[0;34m()\u001b[0m\n\u001b[1;32m     16\u001b[0m \u001b[0;34m\u001b[0m\u001b[0m\n\u001b[1;32m     17\u001b[0m             \u001b[0;31m#session run\u001b[0m\u001b[0;34m\u001b[0m\u001b[0;34m\u001b[0m\u001b[0m\n\u001b[0;32m---> 18\u001b[0;31m             \u001b[0m_\u001b[0m\u001b[0;34m,\u001b[0m\u001b[0ml\u001b[0m\u001b[0;34m,\u001b[0m\u001b[0mprediction\u001b[0m \u001b[0;34m=\u001b[0m \u001b[0msession\u001b[0m\u001b[0;34m.\u001b[0m\u001b[0mrun\u001b[0m\u001b[0;34m(\u001b[0m\u001b[0;34m[\u001b[0m\u001b[0moptimizer\u001b[0m\u001b[0;34m,\u001b[0m\u001b[0mloss\u001b[0m\u001b[0;34m,\u001b[0m\u001b[0mtrain_predict\u001b[0m\u001b[0;34m]\u001b[0m\u001b[0;34m,\u001b[0m\u001b[0mfeed_dict\u001b[0m \u001b[0;34m=\u001b[0m \u001b[0mfeed_dict\u001b[0m\u001b[0;34m)\u001b[0m\u001b[0;34m\u001b[0m\u001b[0m\n\u001b[0m\u001b[1;32m     19\u001b[0m \u001b[0;34m\u001b[0m\u001b[0m\n\u001b[1;32m     20\u001b[0m             \u001b[0;31m#print the info\u001b[0m\u001b[0;34m\u001b[0m\u001b[0;34m\u001b[0m\u001b[0m\n",
      "\u001b[0;32m/Users/boyazhou/Library/Enthought/Canopy_64bit/User/lib/python2.7/site-packages/tensorflow/python/client/session.pyc\u001b[0m in \u001b[0;36mrun\u001b[0;34m(self, fetches, feed_dict, options, run_metadata)\u001b[0m\n\u001b[1;32m    370\u001b[0m     \u001b[0;32mtry\u001b[0m\u001b[0;34m:\u001b[0m\u001b[0;34m\u001b[0m\u001b[0m\n\u001b[1;32m    371\u001b[0m       result = self._run(None, fetches, feed_dict, options_ptr,\n\u001b[0;32m--> 372\u001b[0;31m                          run_metadata_ptr)\n\u001b[0m\u001b[1;32m    373\u001b[0m       \u001b[0;32mif\u001b[0m \u001b[0mrun_metadata\u001b[0m\u001b[0;34m:\u001b[0m\u001b[0;34m\u001b[0m\u001b[0m\n\u001b[1;32m    374\u001b[0m         \u001b[0mproto_data\u001b[0m \u001b[0;34m=\u001b[0m \u001b[0mtf_session\u001b[0m\u001b[0;34m.\u001b[0m\u001b[0mTF_GetBuffer\u001b[0m\u001b[0;34m(\u001b[0m\u001b[0mrun_metadata_ptr\u001b[0m\u001b[0;34m)\u001b[0m\u001b[0;34m\u001b[0m\u001b[0m\n",
      "\u001b[0;32m/Users/boyazhou/Library/Enthought/Canopy_64bit/User/lib/python2.7/site-packages/tensorflow/python/client/session.pyc\u001b[0m in \u001b[0;36m_run\u001b[0;34m(self, handle, fetches, feed_dict, options, run_metadata)\u001b[0m\n\u001b[1;32m    634\u001b[0m     \u001b[0;32mtry\u001b[0m\u001b[0;34m:\u001b[0m\u001b[0;34m\u001b[0m\u001b[0m\n\u001b[1;32m    635\u001b[0m       results = self._do_run(handle, target_list, unique_fetches,\n\u001b[0;32m--> 636\u001b[0;31m                              feed_dict_string, options, run_metadata)\n\u001b[0m\u001b[1;32m    637\u001b[0m     \u001b[0;32mfinally\u001b[0m\u001b[0;34m:\u001b[0m\u001b[0;34m\u001b[0m\u001b[0m\n\u001b[1;32m    638\u001b[0m       \u001b[0;31m# The movers are no longer used. Delete them.\u001b[0m\u001b[0;34m\u001b[0m\u001b[0;34m\u001b[0m\u001b[0m\n",
      "\u001b[0;32m/Users/boyazhou/Library/Enthought/Canopy_64bit/User/lib/python2.7/site-packages/tensorflow/python/client/session.pyc\u001b[0m in \u001b[0;36m_do_run\u001b[0;34m(self, handle, target_list, fetch_list, feed_dict, options, run_metadata)\u001b[0m\n\u001b[1;32m    706\u001b[0m     \u001b[0;32mif\u001b[0m \u001b[0mhandle\u001b[0m \u001b[0;32mis\u001b[0m \u001b[0mNone\u001b[0m\u001b[0;34m:\u001b[0m\u001b[0;34m\u001b[0m\u001b[0m\n\u001b[1;32m    707\u001b[0m       return self._do_call(_run_fn, self._session, feed_dict, fetch_list,\n\u001b[0;32m--> 708\u001b[0;31m                            target_list, options, run_metadata)\n\u001b[0m\u001b[1;32m    709\u001b[0m     \u001b[0;32melse\u001b[0m\u001b[0;34m:\u001b[0m\u001b[0;34m\u001b[0m\u001b[0m\n\u001b[1;32m    710\u001b[0m       return self._do_call(_prun_fn, self._session, handle, feed_dict,\n",
      "\u001b[0;32m/Users/boyazhou/Library/Enthought/Canopy_64bit/User/lib/python2.7/site-packages/tensorflow/python/client/session.pyc\u001b[0m in \u001b[0;36m_do_call\u001b[0;34m(self, fn, *args)\u001b[0m\n\u001b[1;32m    713\u001b[0m   \u001b[0;32mdef\u001b[0m \u001b[0m_do_call\u001b[0m\u001b[0;34m(\u001b[0m\u001b[0mself\u001b[0m\u001b[0;34m,\u001b[0m \u001b[0mfn\u001b[0m\u001b[0;34m,\u001b[0m \u001b[0;34m*\u001b[0m\u001b[0margs\u001b[0m\u001b[0;34m)\u001b[0m\u001b[0;34m:\u001b[0m\u001b[0;34m\u001b[0m\u001b[0m\n\u001b[1;32m    714\u001b[0m     \u001b[0;32mtry\u001b[0m\u001b[0;34m:\u001b[0m\u001b[0;34m\u001b[0m\u001b[0m\n\u001b[0;32m--> 715\u001b[0;31m       \u001b[0;32mreturn\u001b[0m \u001b[0mfn\u001b[0m\u001b[0;34m(\u001b[0m\u001b[0;34m*\u001b[0m\u001b[0margs\u001b[0m\u001b[0;34m)\u001b[0m\u001b[0;34m\u001b[0m\u001b[0m\n\u001b[0m\u001b[1;32m    716\u001b[0m     \u001b[0;32mexcept\u001b[0m \u001b[0merrors\u001b[0m\u001b[0;34m.\u001b[0m\u001b[0mOpError\u001b[0m \u001b[0;32mas\u001b[0m \u001b[0me\u001b[0m\u001b[0;34m:\u001b[0m\u001b[0;34m\u001b[0m\u001b[0m\n\u001b[1;32m    717\u001b[0m       \u001b[0mmessage\u001b[0m \u001b[0;34m=\u001b[0m \u001b[0mcompat\u001b[0m\u001b[0;34m.\u001b[0m\u001b[0mas_text\u001b[0m\u001b[0;34m(\u001b[0m\u001b[0me\u001b[0m\u001b[0;34m.\u001b[0m\u001b[0mmessage\u001b[0m\u001b[0;34m)\u001b[0m\u001b[0;34m\u001b[0m\u001b[0m\n",
      "\u001b[0;32m/Users/boyazhou/Library/Enthought/Canopy_64bit/User/lib/python2.7/site-packages/tensorflow/python/client/session.pyc\u001b[0m in \u001b[0;36m_run_fn\u001b[0;34m(session, feed_dict, fetch_list, target_list, options, run_metadata)\u001b[0m\n\u001b[1;32m    695\u001b[0m         return tf_session.TF_Run(session, options,\n\u001b[1;32m    696\u001b[0m                                  \u001b[0mfeed_dict\u001b[0m\u001b[0;34m,\u001b[0m \u001b[0mfetch_list\u001b[0m\u001b[0;34m,\u001b[0m \u001b[0mtarget_list\u001b[0m\u001b[0;34m,\u001b[0m\u001b[0;34m\u001b[0m\u001b[0m\n\u001b[0;32m--> 697\u001b[0;31m                                  status, run_metadata)\n\u001b[0m\u001b[1;32m    698\u001b[0m \u001b[0;34m\u001b[0m\u001b[0m\n\u001b[1;32m    699\u001b[0m     \u001b[0;32mdef\u001b[0m \u001b[0m_prun_fn\u001b[0m\u001b[0;34m(\u001b[0m\u001b[0msession\u001b[0m\u001b[0;34m,\u001b[0m \u001b[0mhandle\u001b[0m\u001b[0;34m,\u001b[0m \u001b[0mfeed_dict\u001b[0m\u001b[0;34m,\u001b[0m \u001b[0mfetch_list\u001b[0m\u001b[0;34m)\u001b[0m\u001b[0;34m:\u001b[0m\u001b[0;34m\u001b[0m\u001b[0m\n",
      "\u001b[0;31mKeyboardInterrupt\u001b[0m: "
     ]
    }
   ],
   "source": [
    "regul_val = [pow(10, i) for i in np.arange(-4, -2, 0.1)]\n",
    "\n",
    "for reg in regul_val:\n",
    "    with tf.Session(graph = graph) as session:\n",
    "        #initialize the variable first\n",
    "        tf.initialize_all_variables().run()\n",
    "        #print(\"Initialized\")\n",
    "\n",
    "        for step in range(steps):\n",
    "            # I guess offset is find where to begin with\n",
    "            offset = (step * batch_size)% (train_labels.shape[0]-batch_size)\n",
    "            batch_data = train_dataset[offset:(offset+batch_size),:]\n",
    "            batch_label = train_labels[offset:(offset+batch_size),:]\n",
    "            #feed_dict\n",
    "            feed_dict = {tf_train_data:batch_data,tf_train_label:batch_label,lamda_reg:reg}\n",
    "\n",
    "            #session run\n",
    "            _,l,prediction = session.run([optimizer,loss,train_predict],feed_dict = feed_dict)\n",
    "\n",
    "            #print the info\n",
    "#             if (step%500 == 0):\n",
    "#                 print ('Minibatch at step %d: %f'%(step,l))\n",
    "#                 print(\"Minibatch accuracy: %.1f%%\" % accuracy(prediction, batch_label))\n",
    "#                 print(\"Validation accuracy: %.1f%%\" % accuracy(\n",
    "#                   valid_predict.eval(), valid_labels))\n",
    "        accu_test = accuracy(test_predict.eval(), test_labels)\n",
    "        result_test.append(accu_test)\n",
    "        print(\"reg: %r : Test accuracy: %.1f%%\" %(reg,accu_test) )"
   ]
  },
  {
   "cell_type": "markdown",
   "metadata": {},
   "source": [
    "## add learnig rate decay and more laryers"
   ]
  },
  {
   "cell_type": "code",
   "execution_count": 71,
   "metadata": {
    "collapsed": false
   },
   "outputs": [],
   "source": [
    "##Add one layer netural network \n",
    "## \n",
    "batch_size = 128\n",
    "hidden_nodes1 = 1024\n",
    "hidden_nodes2 = 512\n",
    "hidden_nodes3 = 256\n",
    "hidden_nodes4 = 128\n",
    "\n",
    "graph = tf.Graph()\n",
    "starter_learning_rate = 0.5\n",
    "\n",
    "with graph.as_default():\n",
    "    \n",
    "    #first should be input\n",
    "    #placeholder should first define the type of the data\n",
    "    tf_train_data = tf.placeholder(tf.float32,shape = (batch_size,image_size * image_size))\n",
    "    tf_train_label = tf.placeholder(tf.float32,shape = (batch_size,num_labels))\n",
    "    tf_valid_data = tf.constant(valid_dataset)\n",
    "    tf_test_data = tf.constant(test_dataset)\n",
    "    lamda_reg = tf.placeholder(tf.float32)\n",
    "    # do not forget gobal step if need learning rate decay\n",
    "    global_step = tf.Variable(0,trainable=False)\n",
    "    \n",
    "    \n",
    "    #then define variable\n",
    "    weight1 = tf.Variable(tf.truncated_normal([image_size*image_size, hidden_nodes1], stddev=np.sqrt(2.0 / hidden_nodes1)))\n",
    "    biases1 = tf.Variable(tf.zeros([hidden_nodes1]))\n",
    "    weight2 = tf.Variable(tf.truncated_normal([hidden_nodes1, hidden_nodes2], stddev=np.sqrt(2.0 / hidden_nodes2)))\n",
    "    biases2 = tf.Variable(tf.zeros([hidden_nodes2]))\n",
    "    weight3 = tf.Variable(tf.truncated_normal([hidden_nodes2, hidden_nodes3], stddev=np.sqrt(2.0 / hidden_nodes3)))\n",
    "    biases3 = tf.Variable(tf.zeros([hidden_nodes3]))\n",
    "    weight4 = tf.Variable(tf.truncated_normal([hidden_nodes3, num_labels], stddev=np.sqrt(2.0 / hidden_nodes4)))\n",
    "    biases4 = tf.Variable(tf.zeros([num_labels]))\n",
    "    \n",
    "    \n",
    "    \n",
    "    \n",
    "    #this part should be compute the content in each layer\n",
    "    layer1 = tf.nn.relu(tf.matmul(tf_train_data,weight1) + biases1)\n",
    "    drop1 = tf.nn.dropout(layer1,0.5)\n",
    "    layer2 = tf.nn.relu(tf.matmul(drop1,weight2) + biases2)\n",
    "    drop2 = tf.nn.dropout(layer2,0.5)\n",
    "    layer3 = tf.nn.relu(tf.matmul(drop2,weight3) + biases3)\n",
    "    drop3 = tf.nn.dropout(layer3,0.5)\n",
    "    logit = tf.matmul(drop3,weight4) + biases4\n",
    "    \n",
    "    \n",
    "    # notice that how to change the weight\n",
    "    loss = tf.reduce_mean(tf.nn.softmax_cross_entropy_with_logits(logit,tf_train_label)) + \\\n",
    "        lamda_reg * (tf.nn.l2_loss(weight1)+tf.nn.l2_loss(weight2)+tf.nn.l2_loss(weight3)+tf.nn.l2_loss(weight4))\n",
    "    \n",
    "    #define the optimizer\n",
    "    #if need learning rate decay, use golbal_step here\n",
    "    learning_rate_decay = tf.train.exponential_decay(starter_learning_rate,global_step,1000,0.7,staircase = True)\n",
    "    optimizer = tf.train.GradientDescentOptimizer(0.5).minimize(loss,global_step = global_step)\n",
    "    \n",
    "    # variable for display in the training proces\n",
    "    # since the accuracy function is just here, here we only need to calculate the softmax(logit)\n",
    "    train_predict = tf.nn.softmax(logit)\n",
    "    \n",
    "    layer1_valid = tf.nn.relu(tf.matmul(tf_valid_data,weight1) + biases1)\n",
    "    layer2_valid = tf.nn.relu(tf.matmul(layer1_valid,weight2) + biases2)\n",
    "    layer3_valid = tf.nn.relu(tf.matmul(layer2_valid,weight3) + biases3)\n",
    "    valid_predict = tf.nn.softmax(tf.matmul(layer3_valid,weight4) + biases4)\n",
    "    \n",
    "    layer1_test = tf.nn.relu(tf.matmul(tf_test_data,weight1) + biases1)\n",
    "    layer2_test = tf.nn.relu(tf.matmul(layer1_test,weight2) + biases2)\n",
    "    layer3_test = tf.nn.relu(tf.matmul(layer2_test,weight3) + biases3)\n",
    "    test_predict = tf.nn.softmax(tf.matmul(layer3_test,weight4) + biases4)"
   ]
  },
  {
   "cell_type": "code",
   "execution_count": 72,
   "metadata": {
    "collapsed": false
   },
   "outputs": [
    {
     "name": "stdout",
     "output_type": "stream",
     "text": [
      "Minibatch at step 0: 8.701390\n",
      "Minibatch accuracy: 10.9%\n",
      "Validation accuracy: 15.5%\n",
      "Minibatch at step 500: 2.026393\n",
      "Minibatch accuracy: 84.4%\n",
      "Validation accuracy: 83.8%\n",
      "Minibatch at step 1000: 1.258628\n",
      "Minibatch accuracy: 83.6%\n",
      "Validation accuracy: 84.4%\n",
      "Minibatch at step 1500: 0.770765\n",
      "Minibatch accuracy: 89.8%\n",
      "Validation accuracy: 85.0%\n",
      "Minibatch at step 2000: 0.623457\n",
      "Minibatch accuracy: 90.6%\n",
      "Validation accuracy: 85.5%\n",
      "Minibatch at step 2500: 0.667017\n",
      "Minibatch accuracy: 84.4%\n",
      "Validation accuracy: 85.3%\n",
      "Minibatch at step 3000: 0.689972\n",
      "Minibatch accuracy: 85.2%\n",
      "Validation accuracy: 85.7%\n",
      "Minibatch at step 3500: 0.666136\n",
      "Minibatch accuracy: 84.4%\n",
      "Validation accuracy: 85.9%\n",
      "Minibatch at step 4000: 0.650457\n",
      "Minibatch accuracy: 87.5%\n",
      "Validation accuracy: 85.7%\n",
      "Minibatch at step 4500: 0.705120\n",
      "Minibatch accuracy: 85.9%\n",
      "Validation accuracy: 85.3%\n",
      "Minibatch at step 5000: 0.774252\n",
      "Minibatch accuracy: 84.4%\n",
      "Validation accuracy: 86.2%\n",
      "step: 5000 : Test accuracy: 92.6%\n"
     ]
    }
   ],
   "source": [
    "regul_val = [pow(10, i) for i in np.arange(-4, -2, 0.1)]\n",
    "\n",
    "\n",
    "with tf.Session(graph = graph) as session:\n",
    "    #initialize the variable first\n",
    "    tf.initialize_all_variables().run()\n",
    "    #print(\"Initialized\")\n",
    "\n",
    "    for step in range(steps):\n",
    "        # I guess offset is find where to begin with\n",
    "        offset = (step * batch_size)% (train_labels.shape[0]-batch_size)\n",
    "        batch_data = train_dataset[offset:(offset+batch_size),:]\n",
    "        batch_label = train_labels[offset:(offset+batch_size),:]\n",
    "        #feed_dict\n",
    "        feed_dict = {tf_train_data:batch_data,tf_train_label:batch_label,lamda_reg:0.002}\n",
    "\n",
    "        #session run\n",
    "        _,l,prediction = session.run([optimizer,loss,train_predict],feed_dict = feed_dict)\n",
    "\n",
    "        #print the info\n",
    "        if (step%500 == 0):\n",
    "            print ('Minibatch at step %d: %f'%(step,l))\n",
    "            print(\"Minibatch accuracy: %.1f%%\" % accuracy(prediction, batch_label))\n",
    "            print(\"Validation accuracy: %.1f%%\" % accuracy(\n",
    "              valid_predict.eval(), valid_labels))\n",
    "    accu_test = accuracy(test_predict.eval(), test_labels)\n",
    "    result_test.append(accu_test)\n",
    "    print(\"step: %r : Test accuracy: %.1f%%\" %(step,accu_test) )"
   ]
  },
  {
   "cell_type": "code",
   "execution_count": 81,
   "metadata": {
    "collapsed": true
   },
   "outputs": [],
   "source": [
    "##Add one layer netural network \n",
    "## \n",
    "batch_size = 128\n",
    "hidden_nodes1 = 1024\n",
    "hidden_nodes2 = 512\n",
    "hidden_nodes3 = 256\n",
    "hidden_nodes4 = 128\n",
    "\n",
    "graph = tf.Graph()\n",
    "starter_learning_rate = 0.5\n",
    "\n",
    "with graph.as_default():\n",
    "    \n",
    "    #first should be input\n",
    "    #placeholder should first define the type of the data\n",
    "    tf_train_data = tf.placeholder(tf.float32,shape = (batch_size,image_size * image_size))\n",
    "    tf_train_label = tf.placeholder(tf.float32,shape = (batch_size,num_labels))\n",
    "    tf_valid_data = tf.constant(valid_dataset)\n",
    "    tf_test_data = tf.constant(test_dataset)\n",
    "    lamda_reg = tf.placeholder(tf.float32)\n",
    "    # do not forget gobal step if need learning rate decay\n",
    "    global_step = tf.Variable(0,trainable=False)\n",
    "    \n",
    "    \n",
    "    #then define variable\n",
    "    weight1 = tf.Variable(tf.truncated_normal([image_size*image_size, hidden_nodes1], stddev=np.sqrt(2.0 / hidden_nodes1)))\n",
    "    biases1 = tf.Variable(tf.zeros([hidden_nodes1]))\n",
    "    weight2 = tf.Variable(tf.truncated_normal([hidden_nodes1, hidden_nodes2], stddev=np.sqrt(2.0 / hidden_nodes2)))\n",
    "    biases2 = tf.Variable(tf.zeros([hidden_nodes2]))\n",
    "    weight3 = tf.Variable(tf.truncated_normal([hidden_nodes2, hidden_nodes3], stddev=np.sqrt(2.0 / hidden_nodes3)))\n",
    "    biases3 = tf.Variable(tf.zeros([hidden_nodes3]))\n",
    "    weight4 = tf.Variable(tf.truncated_normal([hidden_nodes3, num_labels], stddev=np.sqrt(2.0 / hidden_nodes4)))\n",
    "    biases4 = tf.Variable(tf.zeros([num_labels]))\n",
    "    \n",
    "    \n",
    "    \n",
    "    \n",
    "    #this part should be compute the content in each layer\n",
    "    layer1 = tf.nn.relu(tf.matmul(tf_train_data,weight1) + biases1)\n",
    "    drop1 = tf.nn.dropout(layer1,0.5)\n",
    "    layer2 = tf.nn.relu(tf.matmul(drop1,weight2) + biases2)\n",
    "    drop2 = tf.nn.dropout(layer2,0.5)\n",
    "    layer3 = tf.nn.relu(tf.matmul(drop2,weight3) + biases3)\n",
    "    drop3 = tf.nn.dropout(layer3,0.5)\n",
    "    logit = tf.matmul(drop3,weight4) + biases4\n",
    "    \n",
    "    \n",
    "    # notice that how to change the weight\n",
    "    loss = tf.reduce_mean(tf.nn.softmax_cross_entropy_with_logits(logit,tf_train_label)) + \\\n",
    "        lamda_reg * (tf.nn.l2_loss(weight1)+tf.nn.l2_loss(weight2)+tf.nn.l2_loss(weight3)+tf.nn.l2_loss(weight4))\n",
    "    \n",
    "    #define the optimizer\n",
    "    #if need learning rate decay, use golbal_step here\n",
    "    learning_rate_decay = tf.train.exponential_decay(starter_learning_rate,global_step,1000,0.7,staircase = True)\n",
    "    optimizer = tf.train.GradientDescentOptimizer(learning_rate_decay).minimize(loss,global_step = global_step)\n",
    "    \n",
    "    # variable for display in the training proces\n",
    "    # since the accuracy function is just here, here we only need to calculate the softmax(logit)\n",
    "    train_predict = tf.nn.softmax(logit)\n",
    "    \n",
    "    layer1_valid = tf.nn.relu(tf.matmul(tf_valid_data,weight1) + biases1)\n",
    "    layer2_valid = tf.nn.relu(tf.matmul(layer1_valid,weight2) + biases2)\n",
    "    layer3_valid = tf.nn.relu(tf.matmul(layer2_valid,weight3) + biases3)\n",
    "    valid_predict = tf.nn.softmax(tf.matmul(layer3_valid,weight4) + biases4)\n",
    "    \n",
    "    layer1_test = tf.nn.relu(tf.matmul(tf_test_data,weight1) + biases1)\n",
    "    layer2_test = tf.nn.relu(tf.matmul(layer1_test,weight2) + biases2)\n",
    "    layer3_test = tf.nn.relu(tf.matmul(layer2_test,weight3) + biases3)\n",
    "    test_predict = tf.nn.softmax(tf.matmul(layer3_test,weight4) + biases4)"
   ]
  },
  {
   "cell_type": "code",
   "execution_count": 82,
   "metadata": {
    "collapsed": false
   },
   "outputs": [
    {
     "name": "stdout",
     "output_type": "stream",
     "text": [
      "Minibatch at step 0: 8.509447\n",
      "Minibatch accuracy: 11.7%\n",
      "Validation accuracy: 20.5%\n",
      "Minibatch at step 500: 1.915801\n",
      "Minibatch accuracy: 89.1%\n",
      "Validation accuracy: 83.9%\n",
      "Minibatch at step 1000: 1.282146\n",
      "Minibatch accuracy: 79.7%\n",
      "Validation accuracy: 84.7%\n",
      "Minibatch at step 1500: 0.752195\n",
      "Minibatch accuracy: 89.1%\n",
      "Validation accuracy: 85.4%\n",
      "Minibatch at step 2000: 0.689726\n",
      "Minibatch accuracy: 90.6%\n",
      "Validation accuracy: 86.0%\n",
      "Minibatch at step 2500: 0.679573\n",
      "Minibatch accuracy: 84.4%\n",
      "Validation accuracy: 86.3%\n",
      "Minibatch at step 3000: 0.736705\n",
      "Minibatch accuracy: 81.2%\n",
      "Validation accuracy: 86.3%\n",
      "Minibatch at step 3500: 0.683319\n",
      "Minibatch accuracy: 86.7%\n",
      "Validation accuracy: 86.9%\n",
      "Minibatch at step 4000: 0.583892\n",
      "Minibatch accuracy: 88.3%\n",
      "Validation accuracy: 87.2%\n",
      "Minibatch at step 4500: 0.567231\n",
      "Minibatch accuracy: 88.3%\n",
      "Validation accuracy: 87.7%\n",
      "Minibatch at step 5000: 0.595467\n",
      "Minibatch accuracy: 87.5%\n",
      "Validation accuracy: 87.7%\n",
      "step: 5000 : Test accuracy: 93.9%\n"
     ]
    }
   ],
   "source": [
    "with tf.Session(graph = graph) as session:\n",
    "    #initialize the variable first\n",
    "    tf.initialize_all_variables().run()\n",
    "    #print(\"Initialized\")\n",
    "\n",
    "    for step in range(steps):\n",
    "        # I guess offset is find where to begin with\n",
    "        offset = (step * batch_size)% (train_labels.shape[0]-batch_size)\n",
    "        batch_data = train_dataset[offset:(offset+batch_size),:]\n",
    "        batch_label = train_labels[offset:(offset+batch_size),:]\n",
    "        #feed_dict\n",
    "        feed_dict = {tf_train_data:batch_data,tf_train_label:batch_label,lamda_reg:0.002}\n",
    "\n",
    "        #session run\n",
    "        _,l,prediction = session.run([optimizer,loss,train_predict],feed_dict = feed_dict)\n",
    "\n",
    "        #print the info\n",
    "        if (step%500 == 0):\n",
    "            print ('Minibatch at step %d: %f'%(step,l))\n",
    "            print(\"Minibatch accuracy: %.1f%%\" % accuracy(prediction, batch_label))\n",
    "            print(\"Validation accuracy: %.1f%%\" % accuracy(\n",
    "              valid_predict.eval(), valid_labels))\n",
    "    accu_test = accuracy(test_predict.eval(), test_labels)\n",
    "    result_test.append(accu_test)\n",
    "    print(\"step: %r : Test accuracy: %.1f%%\" %(step,accu_test) )"
   ]
  },
  {
   "cell_type": "code",
   "execution_count": null,
   "metadata": {
    "collapsed": true
   },
   "outputs": [],
   "source": []
  },
  {
   "cell_type": "code",
   "execution_count": null,
   "metadata": {
    "collapsed": true
   },
   "outputs": [],
   "source": []
  },
  {
   "cell_type": "code",
   "execution_count": null,
   "metadata": {
    "collapsed": true
   },
   "outputs": [],
   "source": []
  },
  {
   "cell_type": "code",
   "execution_count": null,
   "metadata": {
    "collapsed": true
   },
   "outputs": [],
   "source": []
  }
 ],
 "metadata": {
  "kernelspec": {
   "display_name": "Python 2",
   "language": "python",
   "name": "python2"
  },
  "language_info": {
   "codemirror_mode": {
    "name": "ipython",
    "version": 2
   },
   "file_extension": ".py",
   "mimetype": "text/x-python",
   "name": "python",
   "nbconvert_exporter": "python",
   "pygments_lexer": "ipython2",
   "version": "2.7.9"
  }
 },
 "nbformat": 4,
 "nbformat_minor": 0
}
